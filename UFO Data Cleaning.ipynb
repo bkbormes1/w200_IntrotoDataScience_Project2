{
 "cells": [
  {
   "cell_type": "code",
   "execution_count": 1,
   "metadata": {},
   "outputs": [],
   "source": [
    "import numpy as np\n",
    "import pandas as pd\n",
    "import matplotlib.pyplot as plt\n",
    "import datetime\n",
    "import re\n",
    "from nuforc_csv_to_pandas import scrub\n",
    "\n",
    "#Read in UFO CSV file as a dataframe\n",
    "ufo_data = scrub()"
   ]
  },
  {
   "cell_type": "code",
   "execution_count": 2,
   "metadata": {
    "scrolled": true
   },
   "outputs": [
    {
     "data": {
      "text/html": [
       "<div>\n",
       "<style scoped>\n",
       "    .dataframe tbody tr th:only-of-type {\n",
       "        vertical-align: middle;\n",
       "    }\n",
       "\n",
       "    .dataframe tbody tr th {\n",
       "        vertical-align: top;\n",
       "    }\n",
       "\n",
       "    .dataframe thead th {\n",
       "        text-align: right;\n",
       "    }\n",
       "</style>\n",
       "<table border=\"1\" class=\"dataframe\">\n",
       "  <thead>\n",
       "    <tr style=\"text-align: right;\">\n",
       "      <th></th>\n",
       "      <th>Date_Time</th>\n",
       "      <th>City</th>\n",
       "      <th>State</th>\n",
       "      <th>Shape</th>\n",
       "      <th>Duration</th>\n",
       "      <th>Summary</th>\n",
       "      <th>Posted</th>\n",
       "      <th>Duration_Mins</th>\n",
       "      <th>Year</th>\n",
       "      <th>Month</th>\n",
       "      <th>Day_Of_Month</th>\n",
       "      <th>Day_Of_Week</th>\n",
       "      <th>Timestamp</th>\n",
       "    </tr>\n",
       "  </thead>\n",
       "  <tbody>\n",
       "    <tr>\n",
       "      <th>0</th>\n",
       "      <td>2021-05-19 20:15:00</td>\n",
       "      <td>atlanta</td>\n",
       "      <td>GA</td>\n",
       "      <td>sphere</td>\n",
       "      <td>10 min</td>\n",
       "      <td>Two black UFO over Atlanta one coming close to...</td>\n",
       "      <td>2021-05-20</td>\n",
       "      <td>10.0</td>\n",
       "      <td>2021</td>\n",
       "      <td>5</td>\n",
       "      <td>19</td>\n",
       "      <td>Wednesday</td>\n",
       "      <td>20:15:00</td>\n",
       "    </tr>\n",
       "    <tr>\n",
       "      <th>1</th>\n",
       "      <td>2021-05-19 17:25:00</td>\n",
       "      <td>glens falls</td>\n",
       "      <td>NY</td>\n",
       "      <td>triangle</td>\n",
       "      <td>20 minutes</td>\n",
       "      <td>Triangular object over the Hudson River</td>\n",
       "      <td>2021-05-20</td>\n",
       "      <td>20.0</td>\n",
       "      <td>2021</td>\n",
       "      <td>5</td>\n",
       "      <td>19</td>\n",
       "      <td>Wednesday</td>\n",
       "      <td>17:25:00</td>\n",
       "    </tr>\n",
       "    <tr>\n",
       "      <th>2</th>\n",
       "      <td>2021-05-19 14:30:00</td>\n",
       "      <td>north haledon</td>\n",
       "      <td>NJ</td>\n",
       "      <td>other</td>\n",
       "      <td>20 mins</td>\n",
       "      <td>I’m no stranger to flying things but yesterday...</td>\n",
       "      <td>2021-05-20</td>\n",
       "      <td>20.0</td>\n",
       "      <td>2021</td>\n",
       "      <td>5</td>\n",
       "      <td>19</td>\n",
       "      <td>Wednesday</td>\n",
       "      <td>14:30:00</td>\n",
       "    </tr>\n",
       "    <tr>\n",
       "      <th>3</th>\n",
       "      <td>2021-05-19 10:50:00</td>\n",
       "      <td>clarksburg</td>\n",
       "      <td>MD</td>\n",
       "      <td>triangle</td>\n",
       "      <td>1 min</td>\n",
       "      <td>Triangle ufo</td>\n",
       "      <td>2021-05-20</td>\n",
       "      <td>1.0</td>\n",
       "      <td>2021</td>\n",
       "      <td>5</td>\n",
       "      <td>19</td>\n",
       "      <td>Wednesday</td>\n",
       "      <td>10:50:00</td>\n",
       "    </tr>\n",
       "    <tr>\n",
       "      <th>4</th>\n",
       "      <td>2021-05-19 01:00:00</td>\n",
       "      <td>sharon connecticut</td>\n",
       "      <td>CT</td>\n",
       "      <td>light</td>\n",
       "      <td>1 hour</td>\n",
       "      <td>Strange star over northwestern connecticut</td>\n",
       "      <td>2021-05-20</td>\n",
       "      <td>60.0</td>\n",
       "      <td>2021</td>\n",
       "      <td>5</td>\n",
       "      <td>19</td>\n",
       "      <td>Wednesday</td>\n",
       "      <td>01:00:00</td>\n",
       "    </tr>\n",
       "  </tbody>\n",
       "</table>\n",
       "</div>"
      ],
      "text/plain": [
       "            Date_Time                City State     Shape    Duration  \\\n",
       "0 2021-05-19 20:15:00             atlanta    GA    sphere      10 min   \n",
       "1 2021-05-19 17:25:00         glens falls    NY  triangle  20 minutes   \n",
       "2 2021-05-19 14:30:00       north haledon    NJ     other     20 mins   \n",
       "3 2021-05-19 10:50:00          clarksburg    MD  triangle       1 min   \n",
       "4 2021-05-19 01:00:00  sharon connecticut    CT     light      1 hour   \n",
       "\n",
       "                                             Summary     Posted  \\\n",
       "0  Two black UFO over Atlanta one coming close to... 2021-05-20   \n",
       "1            Triangular object over the Hudson River 2021-05-20   \n",
       "2  I’m no stranger to flying things but yesterday... 2021-05-20   \n",
       "3                                       Triangle ufo 2021-05-20   \n",
       "4         Strange star over northwestern connecticut 2021-05-20   \n",
       "\n",
       "   Duration_Mins  Year  Month  Day_Of_Month Day_Of_Week Timestamp  \n",
       "0           10.0  2021      5            19   Wednesday  20:15:00  \n",
       "1           20.0  2021      5            19   Wednesday  17:25:00  \n",
       "2           20.0  2021      5            19   Wednesday  14:30:00  \n",
       "3            1.0  2021      5            19   Wednesday  10:50:00  \n",
       "4           60.0  2021      5            19   Wednesday  01:00:00  "
      ]
     },
     "execution_count": 2,
     "metadata": {},
     "output_type": "execute_result"
    }
   ],
   "source": [
    "'''\n",
    "Moved cleaning to scrub module of nuforc_csv_to_pandas.py and imported above.\n",
    "\n",
    "US_states = ['AL', 'AK', 'AZ', 'AR', 'CA', 'CO', 'CT', 'DE', 'DC', 'FL', 'GA', 'HI', 'ID', 'IL', 'IN', 'IA', 'KS', 'KY', 'LA', 'ME', 'MD', 'MA', 'MI', 'MN', 'MS', 'MO', 'MT', 'NE', 'NV', 'NH', 'NJ', 'NM', 'NY', 'NC', 'ND', 'OH', 'OK', 'OR', 'PA', 'RI', 'SC', 'SD', 'TN', 'TX', 'UT', 'VT', 'VA', 'WA', 'WV', 'WI', 'WY']\n",
    "#only use data table rows that are US states\n",
    "ufo_data = ufo_data[ufo_data.State.apply(lambda x: x in US_states)]\n",
    "\n",
    "#City data field cleaning\n",
    "ufo_data = ufo_data[ufo_data.City.apply(lambda x: type(x) == str)] #ensure city data value is a string\n",
    "ufo_data['City'] = ufo_data['City'].apply(lambda x: x.lower())  #make capitalization consistent\n",
    "#ufo_data['City'] = ufo_data['City'].apply(lambda x: x.replace('(.*).*','')) #didn't properly remove () see index 67 for new york city (brooklyn)\n",
    "ufo_data['City'] = ufo_data['City'].apply(lambda x: re.sub(r'/(.*).+/','',x))\n",
    "#ufo_data['City'] = ufo_data['City'][0] + ufo_data['City'].lower()[1:]\n",
    "'''\n",
    "\n",
    "ufo_data.head()"
   ]
  },
  {
   "cell_type": "code",
   "execution_count": 3,
   "metadata": {},
   "outputs": [
    {
     "data": {
      "text/html": [
       "<div>\n",
       "<style scoped>\n",
       "    .dataframe tbody tr th:only-of-type {\n",
       "        vertical-align: middle;\n",
       "    }\n",
       "\n",
       "    .dataframe tbody tr th {\n",
       "        vertical-align: top;\n",
       "    }\n",
       "\n",
       "    .dataframe thead th {\n",
       "        text-align: right;\n",
       "    }\n",
       "</style>\n",
       "<table border=\"1\" class=\"dataframe\">\n",
       "  <thead>\n",
       "    <tr style=\"text-align: right;\">\n",
       "      <th></th>\n",
       "      <th>Duration_Mins</th>\n",
       "      <th>Year</th>\n",
       "      <th>Month</th>\n",
       "      <th>Day_Of_Month</th>\n",
       "    </tr>\n",
       "  </thead>\n",
       "  <tbody>\n",
       "    <tr>\n",
       "      <th>count</th>\n",
       "      <td>105806.000000</td>\n",
       "      <td>119145.000000</td>\n",
       "      <td>119145.000000</td>\n",
       "      <td>119145.000000</td>\n",
       "    </tr>\n",
       "    <tr>\n",
       "      <th>mean</th>\n",
       "      <td>15.163968</td>\n",
       "      <td>2007.991053</td>\n",
       "      <td>6.856847</td>\n",
       "      <td>15.110420</td>\n",
       "    </tr>\n",
       "    <tr>\n",
       "      <th>std</th>\n",
       "      <td>71.106655</td>\n",
       "      <td>11.090118</td>\n",
       "      <td>3.252127</td>\n",
       "      <td>8.896779</td>\n",
       "    </tr>\n",
       "    <tr>\n",
       "      <th>min</th>\n",
       "      <td>0.000333</td>\n",
       "      <td>1940.000000</td>\n",
       "      <td>1.000000</td>\n",
       "      <td>1.000000</td>\n",
       "    </tr>\n",
       "    <tr>\n",
       "      <th>25%</th>\n",
       "      <td>0.500000</td>\n",
       "      <td>2004.000000</td>\n",
       "      <td>4.000000</td>\n",
       "      <td>7.000000</td>\n",
       "    </tr>\n",
       "    <tr>\n",
       "      <th>50%</th>\n",
       "      <td>3.000000</td>\n",
       "      <td>2011.000000</td>\n",
       "      <td>7.000000</td>\n",
       "      <td>15.000000</td>\n",
       "    </tr>\n",
       "    <tr>\n",
       "      <th>75%</th>\n",
       "      <td>10.000000</td>\n",
       "      <td>2015.000000</td>\n",
       "      <td>10.000000</td>\n",
       "      <td>23.000000</td>\n",
       "    </tr>\n",
       "    <tr>\n",
       "      <th>max</th>\n",
       "      <td>4320.000000</td>\n",
       "      <td>2021.000000</td>\n",
       "      <td>12.000000</td>\n",
       "      <td>31.000000</td>\n",
       "    </tr>\n",
       "  </tbody>\n",
       "</table>\n",
       "</div>"
      ],
      "text/plain": [
       "       Duration_Mins           Year          Month   Day_Of_Month\n",
       "count  105806.000000  119145.000000  119145.000000  119145.000000\n",
       "mean       15.163968    2007.991053       6.856847      15.110420\n",
       "std        71.106655      11.090118       3.252127       8.896779\n",
       "min         0.000333    1940.000000       1.000000       1.000000\n",
       "25%         0.500000    2004.000000       4.000000       7.000000\n",
       "50%         3.000000    2011.000000       7.000000      15.000000\n",
       "75%        10.000000    2015.000000      10.000000      23.000000\n",
       "max      4320.000000    2021.000000      12.000000      31.000000"
      ]
     },
     "execution_count": 3,
     "metadata": {},
     "output_type": "execute_result"
    }
   ],
   "source": [
    "ufo_data.describe()"
   ]
  },
  {
   "cell_type": "code",
   "execution_count": 3,
   "metadata": {},
   "outputs": [
    {
     "data": {
      "text/plain": [
       "light        24458\n",
       "other        15865\n",
       "circle       12504\n",
       "triangle     10902\n",
       "fireball      8616\n",
       "unknown       8222\n",
       "sphere        7758\n",
       "disk          6883\n",
       "oval          5152\n",
       "formation     3989\n",
       "changing      2911\n",
       "cigar         2861\n",
       "flash         2094\n",
       "rectangle     2033\n",
       "cylinder      1858\n",
       "diamond       1697\n",
       "chevron       1397\n",
       "Name: Shape, dtype: int64"
      ]
     },
     "execution_count": 3,
     "metadata": {},
     "output_type": "execute_result"
    }
   ],
   "source": [
    "ufo_data['Shape'].value_counts()\n"
   ]
  },
  {
   "cell_type": "code",
   "execution_count": null,
   "metadata": {},
   "outputs": [],
   "source": []
  },
  {
   "cell_type": "code",
   "execution_count": null,
   "metadata": {},
   "outputs": [],
   "source": []
  },
  {
   "cell_type": "code",
   "execution_count": null,
   "metadata": {},
   "outputs": [],
   "source": [
    "\n"
   ]
  },
  {
   "cell_type": "code",
   "execution_count": 11,
   "metadata": {},
   "outputs": [],
   "source": []
  },
  {
   "cell_type": "code",
   "execution_count": null,
   "metadata": {},
   "outputs": [],
   "source": []
  },
  {
   "cell_type": "code",
   "execution_count": null,
   "metadata": {},
   "outputs": [],
   "source": []
  },
  {
   "cell_type": "code",
   "execution_count": 9,
   "metadata": {},
   "outputs": [
    {
     "ename": "SyntaxError",
     "evalue": "invalid syntax (<ipython-input-9-8bfa1c9ae3d3>, line 5)",
     "output_type": "error",
     "traceback": [
      "\u001b[1;36m  File \u001b[1;32m\"<ipython-input-9-8bfa1c9ae3d3>\"\u001b[1;36m, line \u001b[1;32m5\u001b[0m\n\u001b[1;33m    ufo_data['Duration'] = ufo_data['Duration'].apply(lambda x: x.replace(r'/[^0-9-]/g','') if (type(x) == str))\u001b[0m\n\u001b[1;37m                                                                                                               ^\u001b[0m\n\u001b[1;31mSyntaxError\u001b[0m\u001b[1;31m:\u001b[0m invalid syntax\n"
     ]
    }
   ],
   "source": [
    "#remove any non numerical values from the duration, but need to account for data values such as 2-3 minutes \n",
    "#im thinking we first use regex to remove any non numerical or - digits\n",
    "#then we find all the instances that have a dash and take either the average of the two digits or take upper bound\n",
    "ufo_data = ufo_data[ufo_data.City.apply(lambda x: type(x) == str)] \n",
    "ufo_data['Duration'] = ufo_data['Duration'].apply(lambda x: x.replace(r'/[^0-9-]/g','') if (type(x) == str))"
   ]
  },
  {
   "cell_type": "code",
   "execution_count": 3,
   "metadata": {},
   "outputs": [
    {
     "name": "stdout",
     "output_type": "stream",
     "text": [
      "th~9~-\n"
     ]
    }
   ],
   "source": [
    "th = 'th~9~-'\n",
    "print(th.replace(r'/[^0-9-]/g',''))"
   ]
  },
  {
   "cell_type": "code",
   "execution_count": 41,
   "metadata": {},
   "outputs": [],
   "source": [
    "#Exploration of time data.\n",
    "pd.DataFrame(ufo_data.groupby('Duration').Duration.count()).to_csv('explore.csv')"
   ]
  },
  {
   "cell_type": "code",
   "execution_count": 13,
   "metadata": {},
   "outputs": [
    {
     "data": {
      "text/plain": [
       "<AxesSubplot:>"
      ]
     },
     "execution_count": 13,
     "metadata": {},
     "output_type": "execute_result"
    },
    {
     "data": {
      "image/png": "[encoded data removed]",
      "text/plain": [
       "<Figure size 432x288 with 1 Axes>"
      ]
     },
     "metadata": {
      "needs_background": "light"
     },
     "output_type": "display_data"
    }
   ],
   "source": [
    "ufo_data[ufo_data.Year > 1900].Year.hist(bins=40)"
   ]
  }
 ],
 "metadata": {
  "kernelspec": {
   "display_name": "Python 3",
   "language": "python",
   "name": "python3"
  },
  "language_info": {
   "codemirror_mode": {
    "name": "ipython",
    "version": 3
   },
   "file_extension": ".py",
   "mimetype": "text/x-python",
   "name": "python",
   "nbconvert_exporter": "python",
   "pygments_lexer": "ipython3",
   "version": "3.8.5"
  }
 },
 "nbformat": 4,
 "nbformat_minor": 4
}
